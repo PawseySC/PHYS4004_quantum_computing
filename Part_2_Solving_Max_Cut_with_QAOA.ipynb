{
 "cells": [
  {
   "cell_type": "code",
   "execution_count": null,
   "id": "c980b654",
   "metadata": {},
   "outputs": [],
   "source": [
    "import numpy as np\n",
    "import networkx as nx\n",
    "import matplotlib.pyplot as plt"
   ]
  },
  {
   "cell_type": "markdown",
   "id": "b25145b0-93a1-4a45-85e2-b238e51e4a97",
   "metadata": {},
   "source": [
    "# The Max-Cut Problem\n",
    "\n",
    "Given an undirected graph $G=(V,E)$ with $n=∣V∣$ vertices (and $m=∣E∣$ edges), the Max-Cut problem asks for a partition of the vertex set into two disjoint subsets $S$ and $V\\setminus S$ that maximises the number of edges whose endpoints lie on opposite sides of the partition. Picture placing the vertices in $S$ on one side and those in $V\\setminus S$ on the other; the “cut” consists of every edge running between the two sides, and the optimal solution has the largest number of such edges.\n",
    "\n",
    "We can represent a solution (or \"cut\") to the Max-Cut problem using a bitstring, where $0$ and $1$ denote different sets. Below, we define functions to convert an integer to its bitstring.\n"
   ]
  },
  {
   "cell_type": "code",
   "execution_count": null,
   "id": "2d29a141-ea7e-424d-ab95-131bb54465da",
   "metadata": {},
   "outputs": [],
   "source": [
    "def int2bits(k, n):\n",
    "    return format(k, f\"0{n}b\")"
   ]
  },
  {
   "cell_type": "markdown",
   "id": "a08ceb18-097e-4f8c-89cc-8ec1baa1f7dd",
   "metadata": {},
   "source": [
    "We'll be using `NetworkX` to generate graphs in this workshop.\n",
    "\n",
    "You can generate a random graph with $n$ using the `gnp_random_graph` function.  "
   ]
  },
  {
   "cell_type": "code",
   "execution_count": null,
   "id": "7139e711-73aa-4ecf-a724-7ad782063143",
   "metadata": {},
   "outputs": [],
   "source": [
    "n = 7 # number of nodes\n",
    "edge_prob = 0.5 # probability of edge creation\n",
    "\n",
    "G = nx.gnp_random_graph(n, edge_prob, seed=42) # create a random graph using networkx\n"
   ]
  },
  {
   "cell_type": "markdown",
   "id": "5bc67a3c-f5d1-4517-82c0-0bbf0d5b8506",
   "metadata": {},
   "source": [
    "We can retrieve the number of nodes  in `G` using its `get_number_of_nodes` method. The  `cut_value` function below uses the `edges` method to iterate over the edges of `G`,  where tuple `(u, v)`  denotes a connection between vertices `u` and `v`.\n",
    "\n",
    "`NetworkX` also provides basic graph visualisation, which we use  to define `plot_graph` to visualise Max-cut solutions."
   ]
  },
  {
   "cell_type": "code",
   "execution_count": null,
   "id": "e2d79606-80ed-4256-b919-b65bf4aec26a",
   "metadata": {},
   "outputs": [],
   "source": [
    "def cut_value(bitstring, G):\n",
    "    z = [int(b) for b in bitstring]\n",
    "    return sum(z[u] != z[v] for u, v in G.edges())/2\n",
    "\n",
    "\n",
    "def plot_graph(G, cut = None):\n",
    "    pos = nx.spring_layout(G, seed=17)\n",
    "    plt.figure(figsize=(5, 5))\n",
    "\n",
    "    if cut != None:\n",
    "        bits = [int(b) for b in cut]\n",
    "        part0 = [v for v in G.nodes if bits[v] == 0]\n",
    "        part1 = [v for v in G.nodes if bits[v] == 1]\n",
    "        cut_edges = [(u, v) for u, v in G.edges if bits[u] != bits[v]]\n",
    "        same_edges = [(u, v) for u, v in G.edges if bits[u] == bits[v]]\n",
    "        nx.draw_networkx_nodes(G, pos, nodelist=part0, node_color='tab:blue', label='0')\n",
    "        nx.draw_networkx_nodes(G, pos, nodelist=part1, node_color='tab:orange', label='1')\n",
    "        nx.draw_networkx_edges(G, pos, edgelist=same_edges, edge_color='gray')\n",
    "        nx.draw_networkx_edges(G, pos, edgelist=cut_edges, edge_color='red', style='dashed', width=2)\n",
    "    else:\n",
    "        nx.draw_networkx_nodes(G, pos) \n",
    "        nx.draw_networkx_edges(G, pos, width=2)\n",
    "    \n",
    "    nx.draw_networkx_labels(G, pos)\n",
    "    if cut != None:\n",
    "        plt.title(f\"Max-Cut Solution: {cut}\")\n",
    "    plt.axis('off')\n",
    "    plt.tight_layout()\n",
    "    plt.show()"
   ]
  },
  {
   "cell_type": "markdown",
   "id": "f6a14d40",
   "metadata": {},
   "source": [
    "Can you find the optimal cut to `G`?"
   ]
  },
  {
   "cell_type": "code",
   "execution_count": null,
   "id": "8922b15f-9b76-44d7-b3fe-be1d3ce0ecdb",
   "metadata": {},
   "outputs": [],
   "source": [
    "n = 5\n",
    "edge_prob = 0.7\n",
    "G = nx.gnp_random_graph(n, edge_prob, seed = 42)\n",
    "cut = '0000111'\n",
    "plot_graph(G, cut = cut)\n",
    "print(f'Cut value: {cut_value(cut, G)}')"
   ]
  },
  {
   "cell_type": "markdown",
   "id": "25595a73",
   "metadata": {},
   "source": [
    "Max-Cut is an interesting problem in the context of quantum computing. For one,  it's a simple problem to state that is computationally tough. It belongs to the NP-hard complexity class, meaning that while it is easy to compute the value of a given cut, it is widely held that an algorithm that can find an optimum cut in polynomial time does not exist. It's also the case that many optimisation tasks can be framed as a Max-cut problem, such as electrical circuit layouts, spin models and even portfolio rebalancing. \n",
    "\n",
    "To understand how the Max-cut problem's hardness scales with the number of nodes $n$, we can compute how many solutions we need to query on average before encountering the optimal cut value.\n",
    "\n",
    "Even after finding a globally optimal cut, verifying this generally still requires evaluating the entire solution space, which is of size $2^n$."
   ]
  },
  {
   "cell_type": "code",
   "execution_count": null,
   "id": "c4ebf079-89a2-49ae-a633-b62aab72f110",
   "metadata": {},
   "outputs": [],
   "source": [
    "def first_optimum(n, G):\n",
    "    best_val, evals_to_best, best_bs = -1, 0, None\n",
    "    for i in range(2**n):\n",
    "        bs = int2bits(i, n)\n",
    "        val = cut_value(bs, G)\n",
    "        if val > best_val:\n",
    "            best_val, evals_to_best, best_bs = val, i + 1, bs\n",
    "    return evals_to_best, best_val, best_bs\n",
    "\n",
    "n_min, n_max = 2, 10\n",
    "samples_per_n = 50\n",
    "edge_prob = 0.5\n",
    "\n",
    "avg_evals = []\n",
    "ns = list(range(n_min, n_max + 1))\n",
    "\n",
    "for n in ns:\n",
    "    evals_list = []\n",
    "    for _ in range(samples_per_n):\n",
    "        G = nx.gnp_random_graph(n, edge_prob)\n",
    "        if G.number_of_edges() == 0:\n",
    "            continue\n",
    "        evals, _, _ = first_optimum(n, G)\n",
    "        evals_list.append(evals)\n",
    "    if evals_list:\n",
    "        avg_evals.append(sum(evals_list) / len(evals_list))\n",
    "    else:\n",
    "        avg_evals.append(float('nan'))\n",
    "\n",
    "plt.figure(figsize=(6,4))\n",
    "plt.plot(ns, avg_evals, marker='o')\n",
    "plt.xlabel(\"Number of vertices (n)\")\n",
    "plt.ylabel(\"Average # evaluations until optimum\")\n",
    "plt.tight_layout()\n",
    "plt.show()"
   ]
  },
  {
   "cell_type": "markdown",
   "id": "3e3926ea",
   "metadata": {},
   "source": [
    "# Quantum Approximate Optimisation Algorithm (QAOA)\n",
    "\n",
    "The **Quantum Approximate Optimisation Algorithm** (QAOA) is a hybrid quantum–classical routine for tackling combinatorial optimisation problems on near-term quantum devices.\n",
    "A problem instance is encoded in a **cost Hamiltonian** $C(\\mathbf Z)$.  The algorithm evolves an $n$-qubit register by alternating **phase-shift** and **mixing** unitaries whose angles are classical parameters.  A classical optimiser iteratively updates those parameters to minimise the expectation value $\\langle C(\\mathbf Z)\\rangle$, thereby increasing the probability of measuring an optimal (or near-optimal) solution.\n",
    "\n",
    "---\n",
    "\n",
    "## Algorithm overview\n",
    "\n",
    "### 1. Initial state\n",
    "\n",
    "Start from the uniform superposition\n",
    "\n",
    "$$\n",
    "\\ket{\\psi_0}\\;=\\;\\frac{1}{\\sqrt{2^{\\,n}}}\\sum_{x\\in\\{0,1\\}^n}\\ket{x},\n",
    "$$\n",
    "\n",
    "where $n$ is the number of qubits.\n",
    "\n",
    "### 2. Phase-shift unitary\n",
    "\n",
    "$$\n",
    "U_P(\\gamma)\\;=\\;\\exp\\!\\bigl(-i\\gamma\\,C(\\mathbf Z)\\bigr),\n",
    "$$\n",
    "\n",
    "with tunable parameter $\\gamma$.  The operator $C(\\mathbf Z)$ (a function of Pauli-Zs) assigns the cost to each computational-basis state. Consequently, $U_P$ shifts the phase of basis states proportional to their assigned costs.\n",
    "\n",
    "### 3. Mixing unitary\n",
    "\n",
    "$$\n",
    "U_M(\\beta)\\;=\\;\\exp\\!\\Bigl(-i\\beta\\sum_{i=1}^{n}X_i\\Bigr),\n",
    "$$\n",
    "\n",
    "where $\\beta$ is tunable and $X_i$ is the Pauli-$X$ (NOT) gate acting on qubit $i$.\n",
    "\n",
    "### 4. Hybrid loop\n",
    "\n",
    "Choose a circuit depth $p$.  For layers $k=1,\\dots,p$:\n",
    "\n",
    "1. **Prepare**\n",
    "\n",
    "   $$\n",
    "   \\ket{\\psi(\\boldsymbol\\gamma,\\boldsymbol\\beta)} \\;=\\;\n",
    "   U_M(\\beta_k)\\,U_P(\\gamma_k)\\,\\dots\\,U_M(\\beta_1)\\,U_P(\\gamma_1)\\,\\ket{\\psi_0}.\n",
    "   $$\n",
    "\n",
    "2. **Evaluate** Sample the circuit to estimate the expectation\n",
    "   $\\langle C(\\mathbf Z)\\rangle$ (the average measured cost).\n",
    "\n",
    "3. **Optimise** Update the parameter set\n",
    "   $\\{\\gamma_1,\\dots,\\gamma_p,\\;\\beta_1,\\dots,\\beta_p\\}$ with a classical optimiser.\n",
    "\n",
    "Stop when $\\langle C(\\mathbf Z)\\rangle$ converges (or after a chosen iteration limit)."
   ]
  },
  {
   "cell_type": "markdown",
   "id": "78605ba0",
   "metadata": {},
   "source": [
    "## Programming QAOA for Max-Cut\n",
    "\n",
    "In this section you will complete function that will together produce a QAOA circuit to solve the max-cut problem for any graph $G$.\n",
    "\n",
    "Below we import the required classes from Qiskit for circuit construction. `Parameter` and `ParameterVector` allow us to build circuits with classically-tunable parameters that can be modified from shot-to-shot without needing to re-transpile the circuit."
   ]
  },
  {
   "cell_type": "code",
   "execution_count": null,
   "id": "2154d969",
   "metadata": {},
   "outputs": [],
   "source": [
    "from qiskit import QuantumCircuit\n",
    "from qiskit.circuit import Parameter, ParameterVector"
   ]
  },
  {
   "cell_type": "markdown",
   "id": "5aeb380b",
   "metadata": {},
   "source": [
    "### Step 1: Preparing the initial state\n",
    "\n",
    "### Exercise 2.1\n",
    "\n",
    "Complete **the function below** so that it takes a `QuantumCircuit` and a `networkx` graph as inputs and returns a circuit that prepares a uniform superposition over all $n$ qubits.\n",
    "\n",
    "> **Note:** We will reuse this function (and others) to build the full QAOA circuit, so do **not** add measurement operations here."
   ]
  },
  {
   "cell_type": "code",
   "execution_count": null,
   "id": "be5ce8b5",
   "metadata": {},
   "outputs": [],
   "source": [
    "def qaoa_initial_state(qc, G):\n",
    "    # your code here\n",
    "    return qc"
   ]
  },
  {
   "cell_type": "markdown",
   "id": "801b8ae4",
   "metadata": {},
   "source": [
    "### Step 2: Cost-dependent phase-shift\n",
    "\n",
    "In QAOA the operator $C(\\mathbf Z)$ encodes the cost of every candidate solution—but **how** is that cost written in the qubit basis?\n",
    "\n",
    "---\n",
    "\n",
    "#### 2.1 Binary variables as Pauli-$Z$ eigenvalues\n",
    "\n",
    "A computational‐basis measurement of a single qubit collapses it to\n",
    "\n",
    "$$\n",
    "\\lvert 0\\rangle=\\begin{pmatrix}1\\\\0\\end{pmatrix},\n",
    "\\qquad\n",
    "\\lvert 1\\rangle=\\begin{pmatrix}0\\\\1\\end{pmatrix}.\n",
    "$$\n",
    "\n",
    "Both are eigenstates of the Pauli-$Z$ operator\n",
    "\n",
    "$$\n",
    "\\hat Z=\\begin{pmatrix}1&0\\\\0&-1\\end{pmatrix}, \\qquad\n",
    "\\hat Z\\ket{0}=+\\,\\ket{0},\\;\\;\n",
    "\\hat Z\\ket{1}=-\\,\\ket{1}.\n",
    "$$\n",
    "\n",
    "Thus $\\hat Z$ is the quantum analogue of a binary variable that takes values $\\{+1,-1\\}$.\n",
    "For a classical bit $z_i\\in\\{0,1\\}$ carried by qubit $i$,\n",
    "\n",
    "$$\n",
    "z_i=\\frac{1-\\langle\\hat Z_i\\rangle}{2}\n",
    "\\;\\Longleftrightarrow\\;\n",
    "\\hat Z_i = 1-2z_i.\n",
    "$$\n",
    "\n",
    "* $z_i=0 \\;\\Rightarrow\\; \\ket{0}$ with $\\hat Z_i=+1$.\n",
    "* $z_i=1 \\;\\Rightarrow\\; \\ket{1}$ with $\\hat Z_i=-1$.\n",
    "\n",
    "---\n",
    "\n",
    "#### 2.2 Expressing the Max-Cut cost\n",
    "\n",
    "For an edge $(i,j)$ in graph $G$ the cut value of that edge is\n",
    "\n",
    "$$\n",
    "z_i\\oplus z_j \\;=\\; z_i + z_j - 2z_i z_j .\n",
    "$$\n",
    "\n",
    "Summing over all edges and substituting $\\hat Z_i = 1-2z_i$ gives the **quantum cost operator**\n",
    "\n",
    "$$\n",
    "\\boxed{\\;\n",
    "\\hat C(\\mathbf Z)\\;=\\;\\frac12\\sum_{(i,j)\\in E}\\bigl(1-\\hat Z_i\\hat Z_j\\bigr)\\;} .\n",
    "$$\n",
    "\n",
    "---\n",
    "\n",
    "#### 2.3 From operator to phase-shift unitary\n",
    "\n",
    "Because all terms in $\\hat C(\\mathbf Z)$ commute, its exponential factorises edge-by-edge:\n",
    "\n",
    "$$\n",
    "U_P(\\gamma_k)\n",
    "= \\exp\\!\\bigl[-\\,i\\gamma_k\\,\\hat C(\\mathbf Z)\\bigr]\n",
    "= \\prod_{(i,j)\\in E}\\exp\\!\\Bigl[-\\,i\\frac{\\gamma_k}{2}\\bigl(1-\\hat Z_i\\hat Z_j\\bigr)\\Bigr].\n",
    "\\tag{1}\n",
    "$$\n",
    "\n",
    "For each edge $(i,j)$,\n",
    "\n",
    "$$\n",
    "\\exp\\!\\Bigl[-\\,i\\frac{\\gamma}{2}\\bigl(1-\\hat Z_i\\hat Z_j\\bigr)\\Bigr]\n",
    "= e^{-i\\gamma/2}\\;\n",
    "\\underbrace{\\exp\\!\\Bigl(+\\,i\\frac{\\gamma}{2}\\,\\hat Z_i\\hat Z_j\\Bigr)}_{\\displaystyle R_{ZZ}^{(i,j)}(\\gamma)} .\n",
    "$$\n",
    "\n",
    "The global phase $e^{-i\\gamma/2}$ is irrelevant to measurement statistics, so in practice we implement only\n",
    "\n",
    "$$\n",
    "\\boxed{\\;\n",
    "R_{ZZ}^{(i,j)}(\\gamma)\\;=\\;\n",
    "\\exp\\!\\Bigl(+\\,i\\frac{\\gamma}{2}\\,\\hat Z_i\\hat Z_j\\Bigr)} ,\n",
    "$$\n",
    "\n",
    "often called an **$R_{ZZ}$ gate**, for every edge of $G$.\n"
   ]
  },
  {
   "cell_type": "markdown",
   "id": "30f0db51",
   "metadata": {},
   "source": [
    "### Exercise 2.2\n",
    "\n",
    "Complete **the function below** so that it adds an $R_{ZZ}^{(i,j)}(\\gamma)$ gate for every edge $(i,j)$ in the graph $G$.\n",
    "\n",
    "* In Qiskit the call is\n",
    "\n",
    "  ```python\n",
    "  qc.rzz(gamma, i, j)\n",
    "  ```\n",
    "\n",
    "  where `i` and `j` are the qubit indices.\n",
    "\n",
    "* Iterate over the graph’s edges with `G.edges()`.\n",
    "\n",
    "The finished function should return the modified `QuantumCircuit`.\n"
   ]
  },
  {
   "cell_type": "code",
   "execution_count": null,
   "id": "19890aaa",
   "metadata": {},
   "outputs": [],
   "source": [
    "def qaoa_cost_unitary(qc, G, gamma):\n",
    "    # your code here\n",
    "    return  qc"
   ]
  },
  {
   "cell_type": "markdown",
   "id": "be5faa2e",
   "metadata": {},
   "source": [
    "### Step 3: Amplitude mixing\n",
    "\n",
    "To implement the mixing unitary\n",
    "\n",
    "$$\n",
    "U_M(\\beta)\\;=\\;\\exp\\!\\Bigl(-i\\beta\\sum_{i=1}^{n} X_i\\Bigr),\n",
    "$$\n",
    "\n",
    "first note that the Pauli-$X$ operators acting on different qubits commute.\n",
    "The exponential therefore factorises into single-qubit rotations:\n",
    "\n",
    "$$\n",
    "U_M(\\beta)\\;=\\;\\prod_{i=1}^{n}\\exp\\!\\bigl(-i\\beta X_i\\bigr)\n",
    "\\;=\\;\\prod_{i=1}^{n} R_x^{(i)}(2\\beta),\n",
    "$$\n",
    "\n",
    "where\n",
    "\n",
    "$$\n",
    "R_x(\\theta)\\;=\\;\\exp\\!\\Bigl(-\\,i\\frac{\\theta}{2}\\,X\\Bigr)\n",
    "$$\n",
    "\n",
    "is a rotation about the $X$-axis.\n",
    "\n",
    "In Qiskit this is realised by applying `qc.rx(2 * beta, i)` to every qubit $i$."
   ]
  },
  {
   "cell_type": "markdown",
   "id": "68ed3642",
   "metadata": {},
   "source": [
    "### Exercise 2.3 \n",
    "\n",
    "Complete the function below using the **gate-level decomposition** of the mixing unitary $U_M$.\n",
    "\n",
    "For each qubit $j$ apply an $R_x$ rotation of angle $2\\beta$:\n",
    "\n",
    "```python\n",
    "qc.rx(theta, j)   # theta is the rotation angle; j is the qubit index\n",
    "```"
   ]
  },
  {
   "cell_type": "code",
   "execution_count": null,
   "id": "fc546560",
   "metadata": {},
   "outputs": [],
   "source": [
    "def qaoa_mixing_unitary(qc, G, beta):\n",
    "    # your code here\n",
    "    return qc"
   ]
  },
  {
   "cell_type": "markdown",
   "id": "92f9eb9e",
   "metadata": {},
   "source": [
    "### Putting it All Together\n",
    "\n",
    "With the three functions complete we can now build the full QAOA circuit."
   ]
  },
  {
   "cell_type": "code",
   "execution_count": null,
   "id": "1b359269-8e2f-4fba-9fac-e532f79f1fc9",
   "metadata": {},
   "outputs": [],
   "source": [
    "from qiskit.circuit import ParameterVector\n",
    "\n",
    "def make_qaoa_circuit(qc, layers, G):\n",
    "\n",
    "    gammas = ParameterVector(\"gammas\", length = layers)\n",
    "    betas = ParameterVector(\"betas\", length = layers)\n",
    "\n",
    "    qc = qaoa_initial_state(qc, G)\n",
    "    \n",
    "    for layer in range(layers):\n",
    "        qc = qaoa_cost_unitary(qc, G, gammas[layer])\n",
    "        qc = qaoa_mixing_unitary(qc, G, betas[layer])\n",
    "            \n",
    "    return qc, list(gammas) + list(betas)"
   ]
  },
  {
   "cell_type": "markdown",
   "id": "278f8bd4",
   "metadata": {},
   "source": [
    "Try visualising the circuit with different graphs and numbers of layers."
   ]
  },
  {
   "cell_type": "code",
   "execution_count": null,
   "id": "b0b8c712-557f-45a1-9a88-1518842a57dc",
   "metadata": {},
   "outputs": [],
   "source": [
    "n = 4\n",
    "n_solutions = 2**n\n",
    "G = nx.gnp_random_graph(n, 0.5, seed=42)\n",
    "\n",
    "qc = QuantumCircuit(n)\n",
    "\n",
    "layers = 2\n",
    "\n",
    "qc, _ = make_qaoa_circuit(qc, layers, G)\n",
    "qc.measure_all()\n",
    "\n",
    "qc.draw(fold = -1) # fold -1 keeps the circuit on the same line"
   ]
  },
  {
   "cell_type": "markdown",
   "id": "bc7a7d8b",
   "metadata": {},
   "source": [
    "### Variational  Optimisation\n",
    "\n",
    "With `make_qaoa_circuit` implemented we can now close our hybrid quantum-class optimisation loop!\n",
    "\n",
    "The `qaoa_objective_function` takes an array of $2 p$ classical parameters, the first specifying $(\\gamma_1, \\dots, \\gamma_p)$ and the second $(\\beta_1, \\dots, \\beta_p)$. The circuit is run with those parameters for `nshots` shots and the collected results are parsed using the classical `cut_value` function and average to obtain one computation of the QAOA objective function. As we are using SciPy's `minimize` function and we want to maximise the cut, the expectation value is negated before returning it to the optimiser.\n",
    "\n",
    "**Note:** We reverse the bitstring keys in the Qiskit results (`bs[::-]`) as our `int2bits` function converts into *big-endian* binary strings (qubit zero is on the right), while Qiskit uses *little-endian* ordering (qubit zero on the left). "
   ]
  },
  {
   "cell_type": "code",
   "execution_count": null,
   "id": "c278d4dc-f351-40a7-a0bc-36dd03c6b7d3",
   "metadata": {},
   "outputs": [],
   "source": [
    "def qaoa_objective_function(input_parameters, qc, circuit_parameters, G, backend, shots):\n",
    "\n",
    "    bound_qc = qc.assign_parameters(dict(zip(circuit_parameters, input_parameters)))\n",
    "\n",
    "    job = backend.run(bound_qc, shots = shots)\n",
    "    counts =  job.result().get_counts()\n",
    "    exp_val = np.sum([cut_value(bs[::-1], G) * c for  bs, c in counts.items()])/shots\n",
    "    return -exp_val"
   ]
  },
  {
   "cell_type": "markdown",
   "id": "f676eb42",
   "metadata": {},
   "source": [
    "Trying running the optimisation loop varying the number of shots and circuit layers (`p`). We expect that, with enough shots per expectation value computation, the objective function value should decrease as `p` increases."
   ]
  },
  {
   "cell_type": "code",
   "execution_count": null,
   "id": "71d32827",
   "metadata": {},
   "outputs": [],
   "source": [
    "from qiskit_aer import AerSimulator\n",
    "from scipy.optimize import minimize\n",
    "\n",
    "backend  = AerSimulator()\n",
    "\n",
    "shots = 64\n",
    "layers = 4\n",
    "G = nx.gnp_random_graph(10, 0.5, seed = 42)\n",
    "\n",
    "qc = QuantumCircuit(G.number_of_nodes())\n",
    "qc, circuit_parameters = make_qaoa_circuit(qc, layers, G)\n",
    "\n",
    "qc.measure_all()\n",
    "\n",
    "initial_parameters = layers * [0.5, 1.5]\n",
    "opt_result = minimize(qaoa_objective_function, initial_parameters, args = (qc, circuit_parameters, G, backend, shots), method = \"COBYLA\", options = {\"maxiter\":200})\n",
    "print(opt_result)"
   ]
  },
  {
   "cell_type": "markdown",
   "id": "42cf30da",
   "metadata": {},
   "source": [
    "Let's take a look at the most-frequently occurring solution:"
   ]
  },
  {
   "cell_type": "code",
   "execution_count": null,
   "id": "76ab0a0b-376c-4935-91ed-e4fbb4619992",
   "metadata": {},
   "outputs": [],
   "source": [
    "n = G.number_of_nodes()\n",
    "gammas, betas = np.split(opt_result.x, 2)\n",
    "\n",
    "bqc = qc.assign_parameters(dict(zip(circuit_parameters, opt_result.x)))\n",
    "\n",
    "counts = backend.run(bqc, shots = shots).result().get_counts()\n",
    "\n",
    "print(counts)\n",
    "\n",
    "most_common = max(counts, key=counts.get)\n",
    "plot_graph(G, most_common)\n"
   ]
  },
  {
   "cell_type": "markdown",
   "id": "19ec1307",
   "metadata": {},
   "source": [
    "The cell below visualises how the QAOA parameters found by the optimiser reshape the output distribution. Starting from the uniform superposition (every bit-string equally likely), we compute the exact statevector of the optimised circuit and aggregate both the initial and final probabilities by their Max-Cut value. \n",
    "\n",
    "Plotting these side-by-side, if the QAOA parameters have been successfully optimised, the probability mass with move from the most common cut-values toward those that cut more edges."
   ]
  },
  {
   "cell_type": "code",
   "execution_count": null,
   "id": "3fdd5949",
   "metadata": {},
   "outputs": [],
   "source": [
    "from qiskit.quantum_info import Statevector\n",
    "\n",
    "bqc.remove_final_measurements()\n",
    "\n",
    "\n",
    "final_probability= Statevector.from_instruction(bqc).probabilities()\n",
    "\n",
    "starting_probability = np.array(2**n * [1/2**n])\n",
    "cut_values = np.array([cut_value(int2bits(i, n)[::-1], G) for i in range(2**n)])\n",
    "\n",
    "unique_cuts, inverse = np.unique(cut_values, return_inverse=True)\n",
    "agg_prob_final = np.zeros_like(unique_cuts, dtype=float)\n",
    "agg_prob_start = np.zeros_like(unique_cuts, dtype=float)\n",
    "np.add.at(agg_prob_final, inverse, final_probability)\n",
    "np.add.at(agg_prob_start, inverse, starting_probability)\n",
    "\n",
    "\n",
    "plt.plot(unique_cuts,  agg_prob_start, '*', label = 'Un-optimised distribution')\n",
    "plt.plot(unique_cuts,  agg_prob_final, '*', label = 'QAOA-optimised distribution')\n",
    "\n",
    "plt.legend()\n",
    "plt.ylabel(\"Probability\")\n",
    "plt.xlabel(\"Cut Value\")\n",
    "plt.show()"
   ]
  }
 ],
 "metadata": {
  "kernelspec": {
   "display_name": "venv",
   "language": "python",
   "name": "python3"
  },
  "language_info": {
   "codemirror_mode": {
    "name": "ipython",
    "version": 3
   },
   "file_extension": ".py",
   "mimetype": "text/x-python",
   "name": "python",
   "nbconvert_exporter": "python",
   "pygments_lexer": "ipython3",
   "version": "3.12.3"
  }
 },
 "nbformat": 4,
 "nbformat_minor": 5
}
