{
 "cells": [
  {
   "cell_type": "markdown",
   "id": "83533321",
   "metadata": {},
   "source": [
    "# Programming Quantum Computers with Qiskit\n",
    "\n",
    "`Qiskit` is an open-source quantum computing software development framework created by IBM. It provides tools for designing, simulating, and running quantum algorithms on local simulators and real quantum hardware. Today, we'll use `Qiskit` to program and visualize quantum circuits and simulate their output on an ideal noiseless quantum computer.\n",
    "\n",
    "The basic workflow is:\n",
    "\n",
    "1. Create a quantum `QuantumCircuit` object with a register of `n` qubits and a classical register of (typically) `n` bits, where the classical registers store the read-out state of each qubit.\n",
    "\n",
    "2. Construct the quantum circuit, specifying the application of quantum gates and measurement operations on particular qubits.\n",
    "\n",
    "3. Transpile the circuit to run on a target backend—either a simulator or real hardware. Transpilation optimizes the circuit and expresses it in the \"native-gate\" set of the target. Transpilers for real (noisy) hardware will also work to minimize circuit depth and error rates by accounting for the relative fidelity and physical layout of the qubits on the QPU.\n",
    "\n",
    "4. Submit the circuit to the device, which is executed repeatedly to collect results for a specified number of shots, sampling the quantum distribution.\n",
    "\n",
    "5. Retrieve the results, which are formatted as a dictionary of bitstrings and counts.\n",
    "\n",
    "6. Post-process the results for the next stage of computation or human interpretability.\n"
   ]
  },
  {
   "cell_type": "markdown",
   "id": "57205c75",
   "metadata": {},
   "source": [
    "\n",
    "## Bell-State Preparation\n",
    "\n",
    "A Bell-State is a two-qubit entangled state where $\\ket{00}$  and $\\ket{11}$ are in an equal superposition.\n",
    "\n",
    "$$\n",
    "\\ket{\\psi} = \\frac{1}{\\sqrt{2}}(\\ket{00} + \\ket{11})\n",
    "$$\n",
    "\n",
    "Bell-state preparation is the \"hello world\" of QPU programming. To write this program we'll use the following quantum gates:\n",
    "\n",
    "### **Hadamard Gate (H):**\n",
    "\n",
    "The Hadamard gate is a single-qubit operation that creates superposition:\n",
    "\n",
    "$$\n",
    "H \\ket{0} = \\frac{1}{\\sqrt{2}}(\\ket{0} + \\ket{1})\n",
    "$$\n",
    "\n",
    "$$\n",
    "H \\ket{1} = \\frac{1}{\\sqrt{2}}(\\ket{0} - \\ket{1})\n",
    "$$\n",
    "\n",
    "If the qubit starts in the $\\ket{0}$ state, it is placed into an equal superposition of $\\ket{0}$ and $\\ket{1}$. If it starts in the $\\ket{1}$ state, it also enters a superposition (but with a phase difference).\n",
    "\n",
    "\n",
    "### **Controlled-NOT Gate (CNOT):**\n",
    "\n",
    "The controlled-NOT gate is a two-qubit operation where one qubit (the*control) determines whether the other qubit (the target) is flipped:\n",
    "\n",
    "$$\n",
    "\\text{CNOT} \\ket{00} = \\ket{00}\n",
    "$$\n",
    "\n",
    "$$\n",
    "\\text{CNOT} \\ket{01} = \\ket{01}\n",
    "$$\n",
    "\n",
    "$$\n",
    "\\text{CNOT} \\ket{10} = \\ket{11}\n",
    "$$\n",
    "\n",
    "$$\n",
    "\\text{CNOT} \\ket{11} = \\ket{10}\n",
    "$$\n",
    "\n",
    "* If the control qubit is $\\ket{0}$, the target remains unchanged.\n",
    "* If the control qubit is $\\ket{1}$, the target qubit is flipped ($\\ket{0} \\leftrightarrow \\ket{1}$).\n",
    "\n",
    "The CNOT gate creates entanglement between qubits, as it conditions the target's state based on the control's state."
   ]
  },
  {
   "cell_type": "code",
   "execution_count": 1,
   "id": "62d18c1b",
   "metadata": {},
   "outputs": [
    {
     "data": {
      "text/html": [
       "<pre style=\"word-wrap: normal;white-space: pre;background: #fff0;line-height: 1.1;font-family: &quot;Courier New&quot;,Courier,monospace\">        ┌───┐      ░ ┌─┐   \n",
       "   q_0: ┤ H ├──■───░─┤M├───\n",
       "        └───┘┌─┴─┐ ░ └╥┘┌─┐\n",
       "   q_1: ─────┤ X ├─░──╫─┤M├\n",
       "             └───┘ ░  ║ └╥┘\n",
       "meas: 2/══════════════╩══╩═\n",
       "                      0  1 </pre>"
      ],
      "text/plain": [
       "        ┌───┐      ░ ┌─┐   \n",
       "   q_0: ┤ H ├──■───░─┤M├───\n",
       "        └───┘┌─┴─┐ ░ └╥┘┌─┐\n",
       "   q_1: ─────┤ X ├─░──╫─┤M├\n",
       "             └───┘ ░  ║ └╥┘\n",
       "meas: 2/══════════════╩══╩═\n",
       "                      0  1 "
      ]
     },
     "execution_count": 1,
     "metadata": {},
     "output_type": "execute_result"
    }
   ],
   "source": [
    "from qiskit import QuantumCircuit\n",
    "\n",
    "qc = QuantumCircuit(2) #  create a quantum circuit with a quantum register of two qubits and a classical register of two bits\n",
    "\n",
    "# Note: Each qubit starts in |0> state, notated as |00> (or just |0> for short)\n",
    "\n",
    "qc.h(0) # apply a Hadamard  gate to  qubit  zero, putting it  into a superposition of |0> and |1>\n",
    "qc.cx(0, 1) #  apply a CNOT  gate with qubit zero as the control and qubit  one as the target\n",
    "qc.measure_all() # measure qubit zero and one, storing  the result in classical registers zero and one\n",
    "\n",
    "qc.draw() # visualise the ciruit"
   ]
  },
  {
   "cell_type": "markdown",
   "id": "38fe4d1a",
   "metadata": {},
   "source": [
    "To simulate the circuit we'll `AerSimulator` from the `qiskit_aer` package. Qiskit Aer is Qiskit's high-performance simulation backend, it supports a wide variety of simulation methods, and can be configured to use OpenMP (enabled by default), GPU-acceleration and MPI. "
   ]
  },
  {
   "cell_type": "code",
   "execution_count": 2,
   "id": "6d9a11b1",
   "metadata": {},
   "outputs": [
    {
     "name": "stdout",
     "output_type": "stream",
     "text": [
      "{'11': 25, '00': 25}\n"
     ]
    }
   ],
   "source": [
    "from qiskit import transpile\n",
    "from qiskit_aer import AerSimulator # import the Qiskit Aer simulation backend\n",
    "\n",
    "shots  = 50 # number of shots (repeated runs of  the quantum circuit)\n",
    "\n",
    "backend = AerSimulator() # create the backend instance, CPU-based with OpenMP by default \n",
    "tqc = transpile(qc, backend) # transpile the circuit for the AerSimulator backend\n",
    "result  = backend.run(tqc, shots=shots).result() # run the circuit and get the result\n",
    "counts = result.get_counts() # get the count of each measured state\n",
    "print(counts)"
   ]
  },
  {
   "cell_type": "markdown",
   "id": "374a692a",
   "metadata": {},
   "source": [
    "Below we see the results of the simulation compared the expectation values of $\\ket{00}$ and $\\ket{11}$ in a Bell-state. With a small number of shots the discrepancy between the analytical expectation value and the empherical results can be quite large. "
   ]
  },
  {
   "cell_type": "code",
   "execution_count": 3,
   "id": "886397bf",
   "metadata": {},
   "outputs": [
    {
     "data": {
      "image/png": "[encoded data removed]",
      "text/plain": [
       "<Figure size 640x480 with 1 Axes>"
      ]
     },
     "execution_count": 3,
     "metadata": {},
     "output_type": "execute_result"
    }
   ],
   "source": [
    "from qiskit.visualization import plot_histogram\n",
    "\n",
    "expected_counts = {'00': 0.5 * shots, '11': 0.5 * shots}\n",
    "\n",
    "plot_histogram([expected_counts, counts])"
   ]
  },
  {
   "cell_type": "markdown",
   "id": "083ac977",
   "metadata": {},
   "source": [
    "## Initialising a Uniform Superposition\n",
    "\n",
    "A common \"algorithmic primitive\" is the preparation of the uniform superposition state:\n",
    "\n",
    "$$\n",
    "\\ket{\\psi} = \\frac{1}{\\sqrt{2^n}} \\sum_{k  = 0}^{2^n} \\ket{k}\n",
    "$$\n",
    "\n",
    "where $\\ket{k}$ is the base-10 representation of an $n$-qubit basis state. For example, if $n$=2 we have:\n",
    "\n",
    "$$\n",
    "\\ket{0} =  \\ket{00}\n",
    "$$\n",
    "$$\n",
    "\\ket{1} =  \\ket{01}\n",
    "$$\n",
    "$$\n",
    "\\ket{2} =  \\ket{10}\n",
    "$$\n",
    "$$\n",
    "\\ket{3} =  \\ket{11}\n",
    "$$\n",
    "\n",
    "Recall that a H (Hadmard) gate transforms a single qubit in the $\\ket{0}$ state to a uniform superposition of $\\ket{0}$ and $\\ket{1}$. So, to prepare a uniform superposition, we apply an H gate to each qubit.\n",
    "\n",
    "You have observed that a uniform superposition maps one-to-one with the full space of Max-Cut solutions for a graph of $n$ nodes. We'll take advantage of this relationship in the next section."
   ]
  },
  {
   "cell_type": "code",
   "execution_count": 4,
   "id": "b9c76c51",
   "metadata": {},
   "outputs": [
    {
     "data": {
      "text/html": [
       "<pre style=\"word-wrap: normal;white-space: pre;background: #fff0;line-height: 1.1;font-family: &quot;Courier New&quot;,Courier,monospace\">     ┌───┐┌─┐      \n",
       "q_0: ┤ H ├┤M├──────\n",
       "     ├───┤└╥┘┌─┐   \n",
       "q_1: ┤ H ├─╫─┤M├───\n",
       "     ├───┤ ║ └╥┘┌─┐\n",
       "q_2: ┤ H ├─╫──╫─┤M├\n",
       "     └───┘ ║  ║ └╥┘\n",
       "c: 3/══════╩══╩══╩═\n",
       "           0  1  2 </pre>"
      ],
      "text/plain": [
       "     ┌───┐┌─┐      \n",
       "q_0: ┤ H ├┤M├──────\n",
       "     ├───┤└╥┘┌─┐   \n",
       "q_1: ┤ H ├─╫─┤M├───\n",
       "     ├───┤ ║ └╥┘┌─┐\n",
       "q_2: ┤ H ├─╫──╫─┤M├\n",
       "     └───┘ ║  ║ └╥┘\n",
       "c: 3/══════╩══╩══╩═\n",
       "           0  1  2 "
      ]
     },
     "execution_count": 4,
     "metadata": {},
     "output_type": "execute_result"
    }
   ],
   "source": [
    "nqubits = 3\n",
    "shots = 1000\n",
    "\n",
    "qc = QuantumCircuit(nqubits, nqubits)\n",
    "\n",
    "for q in range(nqubits):\n",
    "    qc.h(q)\n",
    "    qc.measure(q, q)\n",
    "\n",
    "qc.draw()"
   ]
  },
  {
   "cell_type": "code",
   "execution_count": 5,
   "id": "f83d6b8f",
   "metadata": {},
   "outputs": [
    {
     "data": {
      "image/png": "[encoded data removed]",
      "text/plain": [
       "<Figure size 640x480 with 1 Axes>"
      ]
     },
     "execution_count": 5,
     "metadata": {},
     "output_type": "execute_result"
    }
   ],
   "source": [
    "backend = AerSimulator()\n",
    "tqc     = transpile(qc, backend)\n",
    "result  = backend.run(tqc, shots=shots).result()\n",
    "counts = result.get_counts()\n",
    "plot_histogram(counts)"
   ]
  },
  {
   "cell_type": "code",
   "execution_count": 6,
   "id": "c980b654",
   "metadata": {},
   "outputs": [],
   "source": [
    "import numpy as np\n",
    "import networkx as nx\n",
    "import matplotlib.pyplot as plt"
   ]
  },
  {
   "cell_type": "markdown",
   "id": "b25145b0-93a1-4a45-85e2-b238e51e4a97",
   "metadata": {},
   "source": [
    "# The Max-Cut Problem\n",
    "\n",
    "Given an undirected graph $G=(V,E)$ with $n=∣V∣$ vertices (and $m=∣E∣$ edges), the Max-Cut problem asks for a partition of the vertex set into two disjoint subsets $S$ and $V\\setminus S$ that maximises the number of edges whose endpoints lie on opposite sides of the partition. Picture placing the vertices in $S$ on one side and those in $V\\setminus S$ on the other; the “cut” consists of every edge running between the two sides, and the optimal solution has the largest number of such edges.\n",
    "\n",
    "We can represent a solution (or \"cut\") to the Max-Cut problem using a bitstring, where $0$ and $1$ denote different sets. Below, we define functions to convert an integer to its bitstring.\n"
   ]
  },
  {
   "cell_type": "code",
   "execution_count": 7,
   "id": "2d29a141-ea7e-424d-ab95-131bb54465da",
   "metadata": {},
   "outputs": [],
   "source": [
    "def int2bits(k, n):\n",
    "    return format(k, f\"0{n}b\")"
   ]
  },
  {
   "cell_type": "markdown",
   "id": "a08ceb18-097e-4f8c-89cc-8ec1baa1f7dd",
   "metadata": {},
   "source": [
    "We'll be using `NetworkX` to generate graphs in this workshop.\n",
    "\n",
    "You can generate a random graph with $n$ using the `gnp_random_graph` function.  "
   ]
  },
  {
   "cell_type": "code",
   "execution_count": 8,
   "id": "7139e711-73aa-4ecf-a724-7ad782063143",
   "metadata": {},
   "outputs": [],
   "source": [
    "n = 7 # number of nodes\n",
    "edge_prob = 0.5 # probability of edge creation\n",
    "\n",
    "G = nx.gnp_random_graph(n, edge_prob, seed=42) # create a random graph using networkx\n"
   ]
  },
  {
   "cell_type": "markdown",
   "id": "5bc67a3c-f5d1-4517-82c0-0bbf0d5b8506",
   "metadata": {},
   "source": [
    "We can retrieve the number of nodes  in `G` using its `get_number_of_nodes` method. The  `cut_value` function below uses the `edges` method to iterate over the edges of `G`,  where tuple `(u, v)`  denotes a connection between vertices `u` and `v`.\n",
    "\n",
    "`NetworkX` also provides basic graph visualisation, which we use  to define `plot_graph` to visualise Max-cut solutions."
   ]
  },
  {
   "cell_type": "code",
   "execution_count": 9,
   "id": "e2d79606-80ed-4256-b919-b65bf4aec26a",
   "metadata": {},
   "outputs": [],
   "source": [
    "def cut_value(bitstring, G):\n",
    "    \"\"\"\n",
    "    Compute the value of a cut on graph G.\n",
    "    \"\"\"\n",
    "    z = [int(b) for b in bitstring]\n",
    "    return sum(z[u] != z[v] for u, v in G.edges())\n",
    "\n",
    "\n",
    "def plot_graph(G, cut = None):\n",
    "    \"\"\"\n",
    "    Visualise a cut on graph G, or plot the graph  if the cut is `None`.\n",
    "    \"\"\"\n",
    "    pos = nx.spring_layout(G, seed=17)\n",
    "    plt.figure(figsize=(5, 5))\n",
    "\n",
    "    if cut != None:\n",
    "        bits = [int(b) for b in cut]\n",
    "        part0 = [v for v in G.nodes if bits[v] == 0]\n",
    "        part1 = [v for v in G.nodes if bits[v] == 1]\n",
    "        cut_edges = [(u, v) for u, v in G.edges if bits[u] != bits[v]]\n",
    "        same_edges = [(u, v) for u, v in G.edges if bits[u] == bits[v]]\n",
    "        nx.draw_networkx_nodes(G, pos, nodelist=part0, node_color='tab:blue', label='0')\n",
    "        nx.draw_networkx_nodes(G, pos, nodelist=part1, node_color='tab:orange', label='1')\n",
    "        nx.draw_networkx_edges(G, pos, edgelist=same_edges, edge_color='gray')\n",
    "        nx.draw_networkx_edges(G, pos, edgelist=cut_edges, edge_color='red', style='dashed', width=2)\n",
    "    else:\n",
    "        nx.draw_networkx_nodes(G, pos) \n",
    "        nx.draw_networkx_edges(G, pos, width=2)\n",
    "    \n",
    "    nx.draw_networkx_labels(G, pos)\n",
    "    if cut != None:\n",
    "        plt.title(f\"Max-Cut Solution: {cut}\")\n",
    "    plt.axis('off')\n",
    "    plt.tight_layout()\n",
    "    plt.show()"
   ]
  },
  {
   "cell_type": "markdown",
   "id": "f6a14d40",
   "metadata": {},
   "source": [
    "Can you find the optimal cut to `G`?"
   ]
  },
  {
   "cell_type": "code",
   "execution_count": 10,
   "id": "8922b15f-9b76-44d7-b3fe-be1d3ce0ecdb",
   "metadata": {},
   "outputs": [
    {
     "data": {
      "image/png": "[encoded data removed]",
      "text/plain": [
       "<Figure size 500x500 with 1 Axes>"
      ]
     },
     "metadata": {},
     "output_type": "display_data"
    },
    {
     "name": "stdout",
     "output_type": "stream",
     "text": [
      "Cut value: 7\n"
     ]
    }
   ],
   "source": [
    "cut = '0000111'\n",
    "plot_graph(G, cut = cut)\n",
    "print(f'Cut value: {cut_value(cut, G)}')"
   ]
  },
  {
   "cell_type": "markdown",
   "id": "25595a73",
   "metadata": {},
   "source": [
    "Max-Cut is an interesting problem in the context of quantum computing. For one,  it's a simple problem to state that is computationally tough. It belongs to the NP-hard complexity class, meaning that while it is easy to compute the value of a given cut, it is widely held that an algorithm that can find an optimum cut in polynomial time does not exist. It's also the case that many optimisation tasks can be framed as a Max-cut problem, such as electrical circuit layouts, spin models and even portfolio rebalancing. \n",
    "\n",
    "To understand how the Max-cut problem's hardness scales with the number of nodes $n$, we can compute how many solutions we need to query on average before encountering the optimal cut value.\n",
    "\n",
    "Even after finding a globally optimal cut, verifying this generally still requires evaluating the entire solution space, which is of size $2^n$."
   ]
  },
  {
   "cell_type": "code",
   "execution_count": 11,
   "id": "c4ebf079-89a2-49ae-a633-b62aab72f110",
   "metadata": {},
   "outputs": [
    {
     "data": {
      "image/png": "[encoded data removed]",
      "text/plain": [
       "<Figure size 600x400 with 1 Axes>"
      ]
     },
     "metadata": {},
     "output_type": "display_data"
    }
   ],
   "source": [
    "def first_optimum(n, G):\n",
    "    best_val, evals_to_best, best_bs = -1, 0, None\n",
    "    for i in range(2**n):\n",
    "        bs = int2bits(i, n)\n",
    "        val = cut_value(bs, G)\n",
    "        if val > best_val:\n",
    "            best_val, evals_to_best, best_bs = val, i + 1, bs\n",
    "    return evals_to_best, best_val, best_bs\n",
    "\n",
    "n_min, n_max = 2, 10\n",
    "samples_per_n = 50\n",
    "edge_prob = 0.5\n",
    "\n",
    "avg_evals = []\n",
    "ns = list(range(n_min, n_max + 1))\n",
    "\n",
    "for n in ns:\n",
    "    evals_list = []\n",
    "    for _ in range(samples_per_n):\n",
    "        G = nx.gnp_random_graph(n, edge_prob)\n",
    "        if G.number_of_edges() == 0:\n",
    "            continue\n",
    "        evals, _, _ = first_optimum(n, G)\n",
    "        evals_list.append(evals)\n",
    "    if evals_list:\n",
    "        avg_evals.append(sum(evals_list) / len(evals_list))\n",
    "    else:\n",
    "        avg_evals.append(float('nan'))\n",
    "\n",
    "plt.figure(figsize=(6,4))\n",
    "plt.plot(ns, avg_evals, marker='o')\n",
    "plt.xlabel(\"Number of vertices (n)\")\n",
    "plt.ylabel(\"Average # evaluations until optimum\")\n",
    "plt.tight_layout()\n",
    "plt.show()"
   ]
  },
  {
   "cell_type": "markdown",
   "id": "8fdcd3f6-45ab-43e9-807e-995fa3ca2205",
   "metadata": {},
   "source": [
    "# The Quantum Approximate Optimisation Algorithm"
   ]
  },
  {
   "cell_type": "markdown",
   "id": "3e3926ea",
   "metadata": {},
   "source": [
    "\n",
    "# Quantum Approximate Optimisation Algorithm (QAOA)\n",
    "\n",
    "The Quantum Approximate Optimisation Algorithm (QAOA) is a hybrid quantum–classical algorithm designed to solve combinatorial optimisation problems on near-term quantum devices. It encodes the problem into a cost Hamiltonian and evolves the quantum state through alternating applications of *cost* and *mixing* unitaries. A classical optimiser iteratively adjusts the parameters to minimise the expectation value of the cost Hamiltonian, with corresponds to a higher probability of measuring an optimal or near-optimal solution. \n",
    "\n",
    "\n",
    "## Algorithm Overview\n",
    "\n",
    "### 1. Initial State\n",
    "\n",
    "The algorithm begins in a uniform superposition,   \n",
    "\n",
    "$$\n",
    "\\ket{\\psi_0} = \\frac{1}{\\sqrt{2^n}}  \\sum_{x\\in\\{0,1\\}^n}\\ket{x},\n",
    "$$\n",
    "\n",
    "where $n$ is the number of qubits.\n",
    "\n",
    "\n",
    "### 2. Cost Unitary\n",
    "\n",
    "The cost-unitary is defined as,\n",
    "\n",
    "$$\n",
    "U_C(\\gamma) = \\exp\\bigl(-i\\gamma\\,C(\\mathbf{Z})\\bigr)\n",
    "$$\n",
    "\n",
    "where $\\gamma$ is a tuneable classical parameter and $C(\\mathbf{Z})$ encodes the cost associated with each solution in the solution space.\n",
    "\n",
    "### 3. Mixing Unitary\n",
    "\n",
    "The mixing unitary is defined as,\n",
    "\n",
    "$$\n",
    "U_M(\\beta) = \\exp\\!\\Bigl(-i\\beta\\sum_i X_i\\Bigr)\n",
    "$$\n",
    "\n",
    "where $\\beta$ is a classically tunable parameter and $X_i$ denotes is a NOT gate (or Puali-X gate) on the $i$-th qubit.\n",
    "\n",
    "### 4. Hybrid Loop\n",
    "\n",
    "Choose a depth $p$, then for layers $k=1,\\dots,p$:\n",
    "\n",
    "1. Prepare  \n",
    "   $$\n",
    "   \\ket{\\psi(\\boldsymbol\\gamma,\\boldsymbol\\beta)}\n",
    "   = U_M(\\beta_k)\\,U_C(\\gamma_k)\\,\\dots\\,U_M(\\beta_1)\\,U_C(\\gamma_1)\\,\\ket{\\psi_0}.\n",
    "   $$\n",
    "2. Sample measurement outcomes to estimate $\\langle C(\\mathbf{Z})\\rangle$ (The average measured cost).  \n",
    "3. Update $\\{\\gamma_1,\\dots,\\gamma_p,\\beta_1,\\dots,\\beta_p\\}$ via a classical optimiser.\n",
    "\n",
    "Terminate when the estimate of $\\langle C(\\mathbf{Z})\\rangle$ converges."
   ]
  },
  {
   "cell_type": "markdown",
   "id": "78605ba0",
   "metadata": {},
   "source": [
    "## Programming QAOA for Max-Cut\n",
    "\n",
    "### Preparing the Initial State\n",
    "\n",
    "Complete the below function, that takes a `QuantumCircuit` and `networkx` graph as its inputs, so that it returns a circuit that prepares a uniform superposition.\n",
    "\n",
    "**Note:** We will be using this function and others to construct the QAOA circuit, so don't include measurement for now."
   ]
  },
  {
   "cell_type": "code",
   "execution_count": 12,
   "id": "be5ce8b5",
   "metadata": {},
   "outputs": [],
   "source": [
    "def qaoa_initial_state(qc, G):\n",
    "    n = G.number_of_nodes()\n",
    "    for q in range(n):\n",
    "        qc.h(q)\n",
    "    return qc"
   ]
  },
  {
   "cell_type": "markdown",
   "id": "801b8ae4",
   "metadata": {},
   "source": [
    "### Implementing the Cost Unitary\n",
    "\n",
    "In step 2 we state that $C(\\mathbf{Z})$ encodes the solution costs of the solution space - but how? \n",
    "\n",
    "Recall that, when measured, a single qubit collapses to either $\\ket{0}$ or $\\ket{1}$ where:\n",
    "\n",
    "$$\n",
    "\\lvert 0 \\rangle \\;=\\;\n",
    "\\begin{pmatrix}\n",
    "1 \\\\[4pt]\n",
    "0\n",
    "\\end{pmatrix},\n",
    "\\qquad\n",
    "\\lvert 1 \\rangle \\;=\\;\n",
    "\\begin{pmatrix}\n",
    "0 \\\\[4pt]\n",
    "1\n",
    "\\end{pmatrix}.\n",
    "$$\n",
    "\n",
    "To encode the problem costs in this basis we first note that they are both eigenstates of the Pauli-$Z$ operator\n",
    "\n",
    "$$\n",
    "\\hat Z=\\begin{pmatrix}1&0\\\\0&-1\\end{pmatrix}, \\qquad\n",
    "\\hat Z\\ket{0}=+\\,\\ket{0},\\;\n",
    "\\hat Z\\ket{1}=-\\,\\ket{1}.\n",
    "$$\n",
    "\n",
    "This makes $\\hat Z$ the quantum analogue of a binary variable that can take two values $\\{+1,-1\\}$.  \n",
    "\n",
    "To represent a bit $z_i\\in\\{0,1\\}$ on qubit $i$ we encode\n",
    "\n",
    "$$\n",
    "z_i = \\frac{1-\\langle\\hat Z_i\\rangle}{2}\n",
    "\\;\\Longleftrightarrow\\;\n",
    "\\hat Z_i = 1-2z_i.\n",
    "$$\n",
    "\n",
    "* $z_i=0 \\rightarrow$ qubit in $\\ket{0}$ with $ \\hat Z_i=+1$.\n",
    "* $z_i=1 \\rightarrow$ qubit in $\\ket{1}$ with $ \\hat Z_i=-1$.\n",
    "\n",
    "If we represent the Max-cut soltuions as binary strings, $z_0 z_1 \\dots z_n$, classical computation of a cut is a sum over XOR operations on $(z_i, z_j)$, for each edge $(i,j)$ in the graph.\n",
    "\n",
    "So for one edge,\n",
    "\n",
    "$$\n",
    "z_i\\oplus z_j = z_i + z_j - 2z_i z_j\n",
    "$$\n",
    "\n",
    "By summing over all edges of the graph $G$ and use thing substitution $Z_i = 1-2z_i$ we obtain,\n",
    "\n",
    "$$\n",
    "\\hat C(\\mathbf{Z}) = \\frac12\\sum_{(i,j)\\in E}\\bigl(1-\\hat Z_i\\hat Z_j\\bigr)\\; .\n",
    "$$\n",
    "\n",
    "\n",
    "To arrive at a circuit that exponentiates $C(\\mathbf{Z})$ we fist note that, because all terms in $C(\\mathbf{Z})$ commute, we can exponentiate it edge-by-edge:\n",
    "\n",
    "$$\n",
    "U_C(\\gamma_k)\n",
    "=\\prod_{(i,j)\\in E} \\exp\\!\\Bigl[-\\,i\\frac{\\gamma_k}{2}\\bigl(1-\\hat Z_i\\hat Z_j\\bigr)\\Bigr].\n",
    "\\tag{3}\n",
    "$$\n",
    "\n",
    "Futhermore, as the for each edge $(i,j)$\n",
    "\n",
    "$$\n",
    "\\exp\\!\\Bigl[-\\,i\\frac{\\gamma}{2}(1-\\hat Z_i\\hat Z_j)\\Bigr]\n",
    "= e^{-i\\gamma/2}\\;\\exp\\!\\Bigl(+\\,i\\frac{\\gamma}{2}\\hat Z_i\\hat Z_j\\Bigr)\n",
    "$$\n",
    "\n",
    "the first factor $e^{-i\\gamma/2}$ is a global phase, in practice we only need to implement\n",
    "\n",
    "$$\n",
    "R_{ZZ}^{(i,j)}(\\gamma)\\;=\\;\n",
    "\\exp\\!\\Bigl(+\\,i\\frac{\\gamma}{2}\\,\\hat Z_i\\hat Z_j\\Bigr)\n",
    "$$\n",
    "\n",
    "for each edge. This has a standard gate-level decomposition: \n",
    "\n",
    "1. **CNOT** with control $i$, target $j$.\n",
    "2. **RZ(2γ)** a z-axis rotation of angle $ 2 \\gamma$ on target qubit $j$.\n",
    "3. **CNOT** with the same control and target."
   ]
  },
  {
   "cell_type": "code",
   "execution_count": 13,
   "id": "9da9de0d",
   "metadata": {},
   "outputs": [
    {
     "data": {
      "text/html": [
       "<pre style=\"word-wrap: normal;white-space: pre;background: #fff0;line-height: 1.1;font-family: &quot;Courier New&quot;,Courier,monospace\">                        \n",
       "q_0: ──■─────────────■──\n",
       "     ┌─┴─┐┌───────┐┌─┴─┐\n",
       "q_1: ┤ X ├┤ Rz(4) ├┤ X ├\n",
       "     └───┘└───────┘└───┘</pre>"
      ],
      "text/plain": [
       "                        \n",
       "q_0: ──■─────────────■──\n",
       "     ┌─┴─┐┌───────┐┌─┴─┐\n",
       "q_1: ┤ X ├┤ Rz(4) ├┤ X ├\n",
       "     └───┘└───────┘└───┘"
      ]
     },
     "execution_count": 13,
     "metadata": {},
     "output_type": "execute_result"
    }
   ],
   "source": [
    "gamma = 2\n",
    "\n",
    "qc = QuantumCircuit(2)\n",
    "\n",
    "qc.cx(0, 1)\n",
    "qc.rz(2 * gamma, 1)\n",
    "qc.cx(0, 1)\n",
    "\n",
    "qc.draw()"
   ]
  },
  {
   "cell_type": "markdown",
   "id": "c2552979",
   "metadata": {},
   "source": [
    "Use the gate-level decomposition of $R_{ZZ}^{(i,j)}(\\gamma)$ to implement the QAOA cost unitary.\n",
    "\n",
    "Recall that we can use `G.edges()` to iterate over `(i, j)` edges.\n",
    "\n",
    "An $R_z$ rotation with angle `theta` can be applied to qubit `j` as:\n",
    "\n",
    "`qc.rz(theta, j)`"
   ]
  },
  {
   "cell_type": "code",
   "execution_count": 14,
   "id": "19890aaa",
   "metadata": {},
   "outputs": [],
   "source": [
    "def qaoa_cost_unitary(qc, G, gamma):\n",
    "    for (i, j) in G.edges():\n",
    "        qc.cx(i, j)\n",
    "        qc.rz(2 * gamma, j)\n",
    "        qc.cx(i, j)\n",
    "    return  qc"
   ]
  },
  {
   "cell_type": "markdown",
   "id": "be5faa2e",
   "metadata": {},
   "source": [
    "### Implementing the Mixing Unitary\n",
    "\n",
    "To express the mixing unitary $U_M$ as a circuit we first not that all of the $X_i$ in $\\sum_i X_i$ commute. So $U_M$ is equivalent to applying,\n",
    "\n",
    "$$\n",
    "R_x(2\\beta) = \\exp(-i \\beta X),\n",
    "$$\n",
    "\n",
    "to each qubit where $R_x$ is a rotation about the X-axis,\n",
    "\n",
    "$$\n",
    "R_x(\\theta) = \\exp\\left(-i \\frac{\\theta}{2}X\\right).\n",
    "$$"
   ]
  },
  {
   "cell_type": "markdown",
   "id": "68ed3642",
   "metadata": {},
   "source": [
    "Use the gate level decomposition of the mixing unitary to complete the  below. \n",
    "\n",
    "An $R_x$ rotation with angle `theta` can be applied to qubit `j` as:\n",
    "\n",
    "`qc.rx(theta, j)`"
   ]
  },
  {
   "cell_type": "code",
   "execution_count": 15,
   "id": "fc546560",
   "metadata": {},
   "outputs": [],
   "source": [
    "def qaoa_mixing_unitary(qc, G, beta):\n",
    "    n = G.number_of_nodes()\n",
    "    for q in range(n):\n",
    "        qc.rx(2 * beta, q)\n",
    "    return qc"
   ]
  },
  {
   "cell_type": "markdown",
   "id": "92f9eb9e",
   "metadata": {},
   "source": [
    "### Putting it All Together\n",
    "\n",
    "With the three functions complete we can now build the full QAOA circuit."
   ]
  },
  {
   "cell_type": "code",
   "execution_count": 16,
   "id": "1b359269-8e2f-4fba-9fac-e532f79f1fc9",
   "metadata": {},
   "outputs": [],
   "source": [
    "def make_qaoa_circuit(gammas, betas, G):\n",
    "\n",
    "    depth = len(gammas)\n",
    "    \n",
    "    qc = QuantumCircuit(n)\n",
    "\n",
    "    qc = qaoa_initial_state(qc, G)\n",
    "    \n",
    "    for layer in range(depth):\n",
    "        qc = qaoa_cost_unitary(qc, G, gammas[layer])\n",
    "        qc = qaoa_mixing_unitary(qc, G, betas[layer])\n",
    "            \n",
    "    qc.measure_all()\n",
    "    \n",
    "    return qc"
   ]
  },
  {
   "cell_type": "code",
   "execution_count": 17,
   "id": "b0b8c712-557f-45a1-9a88-1518842a57dc",
   "metadata": {},
   "outputs": [
    {
     "data": {
      "text/html": [
       "<pre style=\"word-wrap: normal;white-space: pre;background: #fff0;line-height: 1.1;font-family: &quot;Courier New&quot;,Courier,monospace\">         ┌───┐                                                                                                                                                           ┌───────┐                                                                                                                                                                                                                           ░ ┌─┐                           \n",
       "    q_0: ┤ H ├──■─────────────■────■──────────────────────■─────────■──────────────────────■─────────■──────────────────────■─────────■───────────────────────────────■──┤ Rx(4) ├───────────────────────────────────────────────────────────────────────────────────────────────────────────────────────────────────────────────────────────────────────────────────────────────────────────────────────────░─┤M├───────────────────────────\n",
       "         ├───┤  │             │    │                      │         │                      │         │                      │         │                               │  └───────┘                                          ┌───────┐                                                                                                                                                                        ░ └╥┘┌─┐                        \n",
       "    q_1: ┤ H ├──┼─────────────┼────┼──────■───────────────┼────■────┼──────■───────────────┼────■────┼──────■───────────────┼────■────┼──────■────────────────────────┼──────■───────────■───────────────────────────────■──┤ Rx(4) ├────────────────────────────────────────────────────────────────────────────────────────────────────────────────────────────────────────────────────────────────────────░──╫─┤M├────────────────────────\n",
       "         ├───┤┌─┴─┐┌───────┐┌─┴─┐  │    ┌─┴─┐  ┌───────┐  │  ┌─┴─┐  │      │               │    │    │      │               │    │    │      │                        │      │           │                               │  └───────┘                                 ┌───────┐                                                                                                                              ░  ║ └╥┘┌─┐                     \n",
       "    q_2: ┤ H ├┤ X ├┤ Rz(2) ├┤ X ├──┼────┤ X ├──┤ Rz(2) ├──┼──┤ X ├──┼──────┼───────────────┼────┼────┼──────┼───────────────┼────┼────┼──────┼────────■───────────────┼──────┼──────■────┼──────■────────────────────────┼──────■───────────■──────────────────────■──┤ Rx(4) ├──────────────────────────────────────────────────────────────────────────────────────────────────────────────────────────────░──╫──╫─┤M├─────────────────────\n",
       "         ├───┤└───┘└───────┘└───┘┌─┴─┐┌─┴───┴─┐└───────┘┌─┴─┐└───┘  │    ┌─┴─┐  ┌───────┐  │  ┌─┴─┐  │      │               │    │    │      │        │               │      │      │    │      │                        │      │           │                      │  └───────┘                        ┌───────┐                                                                                             ░  ║  ║ └╥┘┌─┐                  \n",
       "    q_3: ┤ H ├───────────────────┤ X ├┤ Rz(2) ├─────────┤ X ├───────┼────┤ X ├──┤ Rz(2) ├──┼──┤ X ├──┼──────┼───────────────┼────┼────┼──────┼────────┼───────────────┼──────┼──────┼────┼──────┼────────■───────────────┼──────┼──────■────┼──────■───────────────┼──────■──────■──────────────────■──┤ Rx(4) ├─────────────────────────────────────────────────────────────────────────────────────────────░──╫──╫──╫─┤M├──────────────────\n",
       "         ├───┤                   └───┘└───────┘         └───┘     ┌─┴─┐┌─┴───┴─┐└───────┘┌─┴─┐└───┘  │      │               │    │    │      │        │               │      │      │    │      │        │               │      │      │    │      │               │      │      │                  │  └───────┘┌───────┐                                                                                    ░  ║  ║  ║ └╥┘┌─┐               \n",
       "    q_4: ┤ H ├────────────────────────────────────────────────────┤ X ├┤ Rz(2) ├─────────┤ X ├───────┼──────┼───────────────┼────┼────┼──────┼────────┼───────────────┼──────┼──────┼────┼──────┼────────┼───────────────┼──────┼──────┼────┼──────┼───────────────┼──────┼──────┼────■─────────────┼──────■────┤ Rx(4) ├────────────────────────────────────────────────────────────────────────────────────░──╫──╫──╫──╫─┤M├───────────────\n",
       "         ├───┤                                                    └───┘└───────┘         └───┘       │    ┌─┴─┐  ┌───────┐  │  ┌─┴─┐  │      │      ┌─┴─┐  ┌───────┐  │      │    ┌─┴─┐  │      │      ┌─┴─┐  ┌───────┐  │      │    ┌─┴─┐  │      │    ┌───────┐  │      │      │    │             │      │    └───────┘                                                                                    ░  ║  ║  ║  ║ └╥┘┌─┐            \n",
       "    q_5: ┤ H ├───────────────────────────────────────────────────────────────────────────────────────┼────┤ X ├──┤ Rz(2) ├──┼──┤ X ├──┼──────┼──────┤ X ├──┤ Rz(2) ├──┼──────┼────┤ X ├──┼──────┼──────┤ X ├──┤ Rz(2) ├──┼──────┼────┤ X ├──┼──────┼────┤ Rx(4) ├──┼──────┼──────┼────┼─────────────┼──────┼─────────────────────────────────────────────────────────────────────────────────────────────────░──╫──╫──╫──╫──╫─┤M├────────────\n",
       "         ├───┤                                                                                       │    └───┘  └───────┘  │  └───┘  │    ┌─┴─┐  ┌─┴───┴─┐└───────┘  │    ┌─┴─┐  └───┘  │      │      └───┘  └───────┘  │      │    └───┘  │    ┌─┴─┐  ├───────┤  │    ┌─┴─┐    │    │             │      │                                    ┌───────┐                                                    ░  ║  ║  ║  ║  ║ └╥┘┌─┐         \n",
       "    q_6: ┤ H ├───────────────────────────────────────────────────────────────────────────────────────┼──────────────────────┼─────────┼────┤ X ├──┤ Rz(2) ├───────────┼────┤ X ├─────────┼──────┼────────────────────────┼──────┼───────────┼────┤ X ├──┤ Rz(2) ├──┼────┤ X ├────┼────┼─────────────┼──────┼────────■────────────────────────■──┤ Rx(4) ├────────────────────────────────────────────────────░──╫──╫──╫──╫──╫──╫─┤M├─────────\n",
       "         ├───┤                                                                                       │                      │         │    └───┘  └───────┘           │    └───┘         │      │                        │      │           │    └───┘  └───────┘  │    └───┘  ┌─┴─┐  │  ┌───────┐┌─┴─┐    │        │                        │  └───────┘                   ┌───────┐                        ░  ║  ║  ║  ║  ║  ║ └╥┘┌─┐      \n",
       "    q_7: ┤ H ├───────────────────────────────────────────────────────────────────────────────────────┼──────────────────────┼─────────┼───────────────────────────────┼──────────────────┼──────┼────────────────────────┼──────┼───────────┼──────────────────────┼───────────┤ X ├──┼──┤ Rz(2) ├┤ X ├────┼────────┼────────■───────────────┼──────■──────■─────────────■──┤ Rx(4) ├────────────────────────░──╫──╫──╫──╫──╫──╫──╫─┤M├──────\n",
       "         ├───┤                                                                                     ┌─┴─┐┌───────┐         ┌─┴─┐       │                               │                  │    ┌─┴─┐  ┌───────┐           │    ┌─┴─┐         │                      │           └───┘  │  └───────┘└───┘    │        │      ┌─┴─┐  ┌───────┐  │    ┌─┴─┐    │             │  └───────┘              ┌───────┐ ░  ║  ║  ║  ║  ║  ║  ║ └╥┘┌─┐   \n",
       "    q_8: ┤ H ├─────────────────────────────────────────────────────────────────────────────────────┤ X ├┤ Rz(2) ├─────────┤ X ├───────┼───────────────────────────────┼──────────────────┼────┤ X ├──┤ Rz(2) ├───────────┼────┤ X ├─────────┼──────────────────────┼──────────────────┼────────────────────┼────────┼──────┤ X ├──┤ Rz(2) ├──┼────┤ X ├────┼─────────────┼──────■───────────────■──┤ Rx(4) ├─░──╫──╫──╫──╫──╫──╫──╫──╫─┤M├───\n",
       "         ├───┤                                                                                     └───┘└───────┘         └───┘     ┌─┴─┐┌───────┐                  ┌─┴─┐              ┌─┴─┐┌─┴───┴─┐└───────┘         ┌─┴─┐  └───┘       ┌─┴─┐┌───────┐         ┌─┴─┐              ┌─┴─┐┌───────┐       ┌─┴─┐    ┌─┴─┐  ┌─┴───┴─┐└───────┘┌─┴─┐  └───┘  ┌─┴─┐┌───────┐┌─┴─┐  ┌─┴─┐  ┌───────┐┌─┴─┐├───────┤ ░  ║  ║  ║  ║  ║  ║  ║  ║ └╥┘┌─┐\n",
       "    q_9: ┤ H ├──────────────────────────────────────────────────────────────────────────────────────────────────────────────────────┤ X ├┤ Rz(2) ├──────────────────┤ X ├──────────────┤ X ├┤ Rz(2) ├──────────────────┤ X ├──────────────┤ X ├┤ Rz(2) ├─────────┤ X ├──────────────┤ X ├┤ Rz(2) ├───────┤ X ├────┤ X ├──┤ Rz(2) ├─────────┤ X ├─────────┤ X ├┤ Rz(2) ├┤ X ├──┤ X ├──┤ Rz(2) ├┤ X ├┤ Rx(4) ├─░──╫──╫──╫──╫──╫──╫──╫──╫──╫─┤M├\n",
       "         └───┘                                                                                                                      └───┘└───────┘                  └───┘              └───┘└───────┘                  └───┘              └───┘└───────┘         └───┘              └───┘└───────┘       └───┘    └───┘  └───────┘         └───┘         └───┘└───────┘└───┘  └───┘  └───────┘└───┘└───────┘ ░  ║  ║  ║  ║  ║  ║  ║  ║  ║ └╥┘\n",
       "meas: 10/═══════════════════════════════════════════════════════════════════════════════════════════════════════════════════════════════════════════════════════════════════════════════════════════════════════════════════════════════════════════════════════════════════════════════════════════════════════════════════════════════════════════════════════════════════════════════════════════════════════╩══╩══╩══╩══╩══╩══╩══╩══╩══╩═\n",
       "                                                                                                                                                                                                                                                                                                                                                                                                                0  1  2  3  4  5  6  7  8  9 </pre>"
      ],
      "text/plain": [
       "         ┌───┐                                                                                                                                                           ┌───────┐                                                                                                                                                                                                                           ░ ┌─┐                           \n",
       "    q_0: ┤ H ├──■─────────────■────■──────────────────────■─────────■──────────────────────■─────────■──────────────────────■─────────■───────────────────────────────■──┤ Rx(4) ├───────────────────────────────────────────────────────────────────────────────────────────────────────────────────────────────────────────────────────────────────────────────────────────────────────────────────────────░─┤M├───────────────────────────\n",
       "         ├───┤  │             │    │                      │         │                      │         │                      │         │                               │  └───────┘                                          ┌───────┐                                                                                                                                                                        ░ └╥┘┌─┐                        \n",
       "    q_1: ┤ H ├──┼─────────────┼────┼──────■───────────────┼────■────┼──────■───────────────┼────■────┼──────■───────────────┼────■────┼──────■────────────────────────┼──────■───────────■───────────────────────────────■──┤ Rx(4) ├────────────────────────────────────────────────────────────────────────────────────────────────────────────────────────────────────────────────────────────────────────░──╫─┤M├────────────────────────\n",
       "         ├───┤┌─┴─┐┌───────┐┌─┴─┐  │    ┌─┴─┐  ┌───────┐  │  ┌─┴─┐  │      │               │    │    │      │               │    │    │      │                        │      │           │                               │  └───────┘                                 ┌───────┐                                                                                                                              ░  ║ └╥┘┌─┐                     \n",
       "    q_2: ┤ H ├┤ X ├┤ Rz(2) ├┤ X ├──┼────┤ X ├──┤ Rz(2) ├──┼──┤ X ├──┼──────┼───────────────┼────┼────┼──────┼───────────────┼────┼────┼──────┼────────■───────────────┼──────┼──────■────┼──────■────────────────────────┼──────■───────────■──────────────────────■──┤ Rx(4) ├──────────────────────────────────────────────────────────────────────────────────────────────────────────────────────────────░──╫──╫─┤M├─────────────────────\n",
       "         ├───┤└───┘└───────┘└───┘┌─┴─┐┌─┴───┴─┐└───────┘┌─┴─┐└───┘  │    ┌─┴─┐  ┌───────┐  │  ┌─┴─┐  │      │               │    │    │      │        │               │      │      │    │      │                        │      │           │                      │  └───────┘                        ┌───────┐                                                                                             ░  ║  ║ └╥┘┌─┐                  \n",
       "    q_3: ┤ H ├───────────────────┤ X ├┤ Rz(2) ├─────────┤ X ├───────┼────┤ X ├──┤ Rz(2) ├──┼──┤ X ├──┼──────┼───────────────┼────┼────┼──────┼────────┼───────────────┼──────┼──────┼────┼──────┼────────■───────────────┼──────┼──────■────┼──────■───────────────┼──────■──────■──────────────────■──┤ Rx(4) ├─────────────────────────────────────────────────────────────────────────────────────────────░──╫──╫──╫─┤M├──────────────────\n",
       "         ├───┤                   └───┘└───────┘         └───┘     ┌─┴─┐┌─┴───┴─┐└───────┘┌─┴─┐└───┘  │      │               │    │    │      │        │               │      │      │    │      │        │               │      │      │    │      │               │      │      │                  │  └───────┘┌───────┐                                                                                    ░  ║  ║  ║ └╥┘┌─┐               \n",
       "    q_4: ┤ H ├────────────────────────────────────────────────────┤ X ├┤ Rz(2) ├─────────┤ X ├───────┼──────┼───────────────┼────┼────┼──────┼────────┼───────────────┼──────┼──────┼────┼──────┼────────┼───────────────┼──────┼──────┼────┼──────┼───────────────┼──────┼──────┼────■─────────────┼──────■────┤ Rx(4) ├────────────────────────────────────────────────────────────────────────────────────░──╫──╫──╫──╫─┤M├───────────────\n",
       "         ├───┤                                                    └───┘└───────┘         └───┘       │    ┌─┴─┐  ┌───────┐  │  ┌─┴─┐  │      │      ┌─┴─┐  ┌───────┐  │      │    ┌─┴─┐  │      │      ┌─┴─┐  ┌───────┐  │      │    ┌─┴─┐  │      │    ┌───────┐  │      │      │    │             │      │    └───────┘                                                                                    ░  ║  ║  ║  ║ └╥┘┌─┐            \n",
       "    q_5: ┤ H ├───────────────────────────────────────────────────────────────────────────────────────┼────┤ X ├──┤ Rz(2) ├──┼──┤ X ├──┼──────┼──────┤ X ├──┤ Rz(2) ├──┼──────┼────┤ X ├──┼──────┼──────┤ X ├──┤ Rz(2) ├──┼──────┼────┤ X ├──┼──────┼────┤ Rx(4) ├──┼──────┼──────┼────┼─────────────┼──────┼─────────────────────────────────────────────────────────────────────────────────────────────────░──╫──╫──╫──╫──╫─┤M├────────────\n",
       "         ├───┤                                                                                       │    └───┘  └───────┘  │  └───┘  │    ┌─┴─┐  ┌─┴───┴─┐└───────┘  │    ┌─┴─┐  └───┘  │      │      └───┘  └───────┘  │      │    └───┘  │    ┌─┴─┐  ├───────┤  │    ┌─┴─┐    │    │             │      │                                    ┌───────┐                                                    ░  ║  ║  ║  ║  ║ └╥┘┌─┐         \n",
       "    q_6: ┤ H ├───────────────────────────────────────────────────────────────────────────────────────┼──────────────────────┼─────────┼────┤ X ├──┤ Rz(2) ├───────────┼────┤ X ├─────────┼──────┼────────────────────────┼──────┼───────────┼────┤ X ├──┤ Rz(2) ├──┼────┤ X ├────┼────┼─────────────┼──────┼────────■────────────────────────■──┤ Rx(4) ├────────────────────────────────────────────────────░──╫──╫──╫──╫──╫──╫─┤M├─────────\n",
       "         ├───┤                                                                                       │                      │         │    └───┘  └───────┘           │    └───┘         │      │                        │      │           │    └───┘  └───────┘  │    └───┘  ┌─┴─┐  │  ┌───────┐┌─┴─┐    │        │                        │  └───────┘                   ┌───────┐                        ░  ║  ║  ║  ║  ║  ║ └╥┘┌─┐      \n",
       "    q_7: ┤ H ├───────────────────────────────────────────────────────────────────────────────────────┼──────────────────────┼─────────┼───────────────────────────────┼──────────────────┼──────┼────────────────────────┼──────┼───────────┼──────────────────────┼───────────┤ X ├──┼──┤ Rz(2) ├┤ X ├────┼────────┼────────■───────────────┼──────■──────■─────────────■──┤ Rx(4) ├────────────────────────░──╫──╫──╫──╫──╫──╫──╫─┤M├──────\n",
       "         ├───┤                                                                                     ┌─┴─┐┌───────┐         ┌─┴─┐       │                               │                  │    ┌─┴─┐  ┌───────┐           │    ┌─┴─┐         │                      │           └───┘  │  └───────┘└───┘    │        │      ┌─┴─┐  ┌───────┐  │    ┌─┴─┐    │             │  └───────┘              ┌───────┐ ░  ║  ║  ║  ║  ║  ║  ║ └╥┘┌─┐   \n",
       "    q_8: ┤ H ├─────────────────────────────────────────────────────────────────────────────────────┤ X ├┤ Rz(2) ├─────────┤ X ├───────┼───────────────────────────────┼──────────────────┼────┤ X ├──┤ Rz(2) ├───────────┼────┤ X ├─────────┼──────────────────────┼──────────────────┼────────────────────┼────────┼──────┤ X ├──┤ Rz(2) ├──┼────┤ X ├────┼─────────────┼──────■───────────────■──┤ Rx(4) ├─░──╫──╫──╫──╫──╫──╫──╫──╫─┤M├───\n",
       "         ├───┤                                                                                     └───┘└───────┘         └───┘     ┌─┴─┐┌───────┐                  ┌─┴─┐              ┌─┴─┐┌─┴───┴─┐└───────┘         ┌─┴─┐  └───┘       ┌─┴─┐┌───────┐         ┌─┴─┐              ┌─┴─┐┌───────┐       ┌─┴─┐    ┌─┴─┐  ┌─┴───┴─┐└───────┘┌─┴─┐  └───┘  ┌─┴─┐┌───────┐┌─┴─┐  ┌─┴─┐  ┌───────┐┌─┴─┐├───────┤ ░  ║  ║  ║  ║  ║  ║  ║  ║ └╥┘┌─┐\n",
       "    q_9: ┤ H ├──────────────────────────────────────────────────────────────────────────────────────────────────────────────────────┤ X ├┤ Rz(2) ├──────────────────┤ X ├──────────────┤ X ├┤ Rz(2) ├──────────────────┤ X ├──────────────┤ X ├┤ Rz(2) ├─────────┤ X ├──────────────┤ X ├┤ Rz(2) ├───────┤ X ├────┤ X ├──┤ Rz(2) ├─────────┤ X ├─────────┤ X ├┤ Rz(2) ├┤ X ├──┤ X ├──┤ Rz(2) ├┤ X ├┤ Rx(4) ├─░──╫──╫──╫──╫──╫──╫──╫──╫──╫─┤M├\n",
       "         └───┘                                                                                                                      └───┘└───────┘                  └───┘              └───┘└───────┘                  └───┘              └───┘└───────┘         └───┘              └───┘└───────┘       └───┘    └───┘  └───────┘         └───┘         └───┘└───────┘└───┘  └───┘  └───────┘└───┘└───────┘ ░  ║  ║  ║  ║  ║  ║  ║  ║  ║ └╥┘\n",
       "meas: 10/═══════════════════════════════════════════════════════════════════════════════════════════════════════════════════════════════════════════════════════════════════════════════════════════════════════════════════════════════════════════════════════════════════════════════════════════════════════════════════════════════════════════════════════════════════════════════════════════════════════╩══╩══╩══╩══╩══╩══╩══╩══╩══╩═\n",
       "                                                                                                                                                                                                                                                                                                                                                                                                                0  1  2  3  4  5  6  7  8  9 "
      ]
     },
     "execution_count": 17,
     "metadata": {},
     "output_type": "execute_result"
    }
   ],
   "source": [
    "n = 10\n",
    "n_solutions = 2**n\n",
    "p = 0.5\n",
    "G = nx.gnp_random_graph(n, p, seed=42)\n",
    "gammas = [1.0]\n",
    "betas = [2.0]\n",
    "\n",
    "qc = make_qaoa_circuit(gammas, betas, G)\n",
    "qc.draw(fold = -1)"
   ]
  },
  {
   "cell_type": "markdown",
   "id": "bc7a7d8b",
   "metadata": {},
   "source": [
    "### Variational  Optimisation"
   ]
  },
  {
   "cell_type": "code",
   "execution_count": 18,
   "id": "c278d4dc-f351-40a7-a0bc-36dd03c6b7d3",
   "metadata": {},
   "outputs": [],
   "source": [
    "from scipy.optimize import minimize\n",
    "\n",
    "depth = 4\n",
    "\n",
    "def qaoa_objective_function(parameters, G, shots = 10000, backend = AerSimulator()):\n",
    "    gammas, betas = np.split(parameters, 2)\n",
    "    qc =  make_qaoa_circuit(gammas, betas, G)\n",
    "    job = backend.run(qc, shots = shots)\n",
    "    counts =  job.result().get_counts()\n",
    "    exp_val = sum(cut_value(bs[::-1], G) * c for  bs, c in counts.items())\n",
    "    return -exp_val / shots\n",
    "\n",
    "opt_result = minimize(qaoa_objective_function, depth * [1.0, 1.0], args = (G))"
   ]
  },
  {
   "cell_type": "code",
   "execution_count": 19,
   "id": "76ab0a0b-376c-4935-91ed-e4fbb4619992",
   "metadata": {},
   "outputs": [
    {
     "data": {
      "text/plain": [
       "Text(0.5, 0, 'Solution Cost')"
      ]
     },
     "execution_count": 19,
     "metadata": {},
     "output_type": "execute_result"
    },
    {
     "data": {
      "image/png": "[encoded data removed]",
      "text/plain": [
       "<Figure size 640x480 with 1 Axes>"
      ]
     },
     "metadata": {},
     "output_type": "display_data"
    }
   ],
   "source": [
    "from qiskit.quantum_info import Statevector\n",
    "\n",
    "n = G.number_of_nodes()\n",
    "\n",
    "gammas, betas = np.split(opt_result['x'], 2)\n",
    "\n",
    "qc = make_qaoa_circuit(gammas, betas, G)\n",
    "qc_nom = qc.remove_final_measurements(inplace=False)\n",
    "state = Statevector.from_instruction(qc_nom)\n",
    "\n",
    "probability = np.abs(state)**2\n",
    "cut_values = [cut_value(int2bits(i, n)[::-1], G) for i in range(2**n)]\n",
    "plt.plot(cut_values,  np.abs(state)**2, '*')\n",
    "plt.ylabel(\"Probability\")\n",
    "plt.xlabel(\"Solution Cost\")"
   ]
  },
  {
   "cell_type": "code",
   "execution_count": null,
   "id": "fe61cff8",
   "metadata": {},
   "outputs": [],
   "source": []
  }
 ],
 "metadata": {
  "kernelspec": {
   "display_name": "venv",
   "language": "python",
   "name": "python3"
  },
  "language_info": {
   "codemirror_mode": {
    "name": "ipython",
    "version": 3
   },
   "file_extension": ".py",
   "mimetype": "text/x-python",
   "name": "python",
   "nbconvert_exporter": "python",
   "pygments_lexer": "ipython3",
   "version": "3.12.3"
  }
 },
 "nbformat": 4,
 "nbformat_minor": 5
}
