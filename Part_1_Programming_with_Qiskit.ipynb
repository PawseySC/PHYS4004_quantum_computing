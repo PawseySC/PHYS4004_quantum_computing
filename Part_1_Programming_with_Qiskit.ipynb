{
 "cells": [
  {
   "cell_type": "markdown",
   "id": "83533321",
   "metadata": {},
   "source": [
    "# Programming Quantum Computers with Qiskit\n",
    "\n",
    "## Introduction and Prerequisites\n",
    "\n",
    "`Qiskit` is an open-source quantum computing software development framework created by IBM. It provides tools for designing, simulating, and running quantum algorithms on local simulators and real quantum hardware. Today, we'll use `Qiskit` to program and visualize quantum circuits and simulate their output on an ideal noiseless quantum computer.\n",
    "\n",
    "**Note:** There are code-breaking changes to the Qiskit API between minor versions. This notebook assumes version `2.0.x`, which should be satisfied if you set up a Python virtual environment as outlined in the the repository `README.md`.\n",
    "\n",
    "[**Documentation for Qiskit version 2.0.0**](https://docs.quantum.ibm.com/api/qiskit/2.0)\n"
   ]
  },
  {
   "cell_type": "markdown",
   "id": "23da14c8",
   "metadata": {},
   "source": [
    "## Quantum circuits\n",
    "\n",
    "The Qiskit programming model is based on **quantum circuits**. A **quantum circuit** is the quantum-computing analogue of a classical logic circuit.\n",
    "\n",
    "A circuit begins with a **register** of $n$ **qubits** which, by convention, are initialised in the state $\\ket{0}^{\\otimes n}$ (i.e. $\\ket{0\\dots 0}$).\n",
    "The programme is defined by specifying a sequence of unitary quantum-logic **gates** acting on one **or** more qubits.\n",
    "To extract classical information, the qubits are measured in the computational basis $\\{\\ket{0},\\ket{1}\\}$; the outcomes are stored in a classical register of $n$ **bits**.\n",
    "\n",
    "Because every gate is unitary, the overall evolution preserves the norm of the state vector, ensuring that probabilities sum to one.  Designing an algorithm therefore amounts to choosing a gate sequence that steers the initial state towards one which, when measured, solves the task at hand with high probability.\n",
    "\n",
    "Creating a two-qubit circuit in Qiskit:\n",
    "\n",
    "```python\n",
    "from qiskit import QuantumCircuit\n",
    "\n",
    "qc = QuantumCircuit(2)\n",
    "```\n",
    "\n",
    "### Single-qubit gates\n",
    "\n",
    "Below is a (non-exhaustive) list of single-qubit gates.\n",
    "`qc` is a `QuantumCircuit` instance and `q` is the integer index of the target qubit.\n",
    "\n",
    "To visualise gate action, we use the **Bloch sphere**: a unit sphere on which any pure qubit state is a point. The north and south poles represent $\\ket{0}$ and $\\ket{1}$; points on the equator represent equal superpositions with different relative phases.\n",
    "\n",
    "| Name          | Description                        | Gate symbol | Qiskit call       | Action (bra–ket)                                                                                                                                                        | Action (Bloch sphere)    |\n",
    "| ------------- | ---------------------------------- | ----------- | ----------------- | ----------------------------------------------------------------------------------------------------------------------------------------------------------------------- | ------------------------ |\n",
    "| Pauli-X (NOT) | Bit-flip                           | **X**       | `qc.x(q)`         | $X\\ket{0}=\\ket{1},\\; X\\ket{1}=\\ket{0}$                                                                                                                                  | ![](images/bloch_X.gif)  |\n",
    "| Pauli-Z       | Phase-flip                         | **Z**       | `qc.z(q)`         | $Z\\ket{0}=\\ket{0},\\; Z\\ket{1}=-\\ket{1}$                                                                                                                                 | ![](images/bloch_Z.gif)  |\n",
    "| Hadamard      | Creates equal-weight superposition | **H**       | `qc.h(q)`         | $H\\ket{0}= \\tfrac{\\ket{0}+\\ket{1}}{\\sqrt{2}},\\; H\\ket{1}= \\tfrac{\\ket{0}-\\ket{1}}{\\sqrt{2}}$                                                                            | ![](images/bloch_H.gif)  |\n",
    "| $R_X(\\theta)$ | Rotation about X axis              | **RX(θ)**   | `qc.rx(theta, q)` | $R_X(\\theta)\\ket{0}= \\cos\\tfrac{\\theta}{2}\\ket{0}-i\\sin\\tfrac{\\theta}{2}\\ket{1}$ <br> $R_X(\\theta)\\ket{1}= -i\\sin\\tfrac{\\theta}{2}\\ket{0}+\\cos\\tfrac{\\theta}{2}\\ket{1}$ | ![](images/bloch_RX.gif) |\n",
    "| $R_Z(\\theta)$ | Rotation about Z axis              | **RZ(θ)**   | `qc.rz(theta, q)` | $R_Z(\\theta)\\ket{0}= e^{-i\\theta/2}\\ket{0},\\; R_Z(\\theta)\\ket{1}= e^{+i\\theta/2}\\ket{1}$                                                                                | ![](images/bloch_RZ.gif) |\n",
    "\n",
    "Example: prepare a superposition on qubit 0 with a Hadamard gate\n",
    "\n",
    "```python\n",
    "from qiskit import QuantumCircuit\n",
    "\n",
    "qc = QuantumCircuit(2)\n",
    "qc.h(0)\n",
    "```\n",
    "\n",
    "### Two-qubit gates\n",
    "\n",
    "**Two-qubit gates** are essential for creating entanglement. They realise conditional logic in which the transformation of one qubit depends on the state of another.\n",
    "\n",
    "The canonical example is the **controlled-NOT (CNOT)** gate, which flips the *target* qubit if and only if the *control* qubit is in $\\ket{1}$:\n",
    "\n",
    "$$\n",
    "\\text{CNOT}\\ket{00}=\\ket{00},\\;\n",
    "\\text{CNOT}\\ket{01}=\\ket{01},\\;\n",
    "\\text{CNOT}\\ket{10}=\\ket{11},\\;\n",
    "\\text{CNOT}\\ket{11}=\\ket{10}.\n",
    "$$\n",
    "\n",
    "In Qiskit: `qc.cx(ctrl, targ)` where `ctrl` is the control-qubit index and `targ` is the target-qubit index.\n",
    "\n",
    "```python\n",
    "from qiskit import QuantumCircuit\n",
    "\n",
    "qc = QuantumCircuit(2)\n",
    "qc.x(0)       # put qubit 0 into |1>\n",
    "qc.cx(0, 1)   # CNOT with qubit 0 as control, 1 as target → |11>\n",
    "```\n",
    "\n",
    "### Quantum-circuit diagrams\n",
    "\n",
    "**Quantum-circuit diagrams** provide a pictorial language for quantum programmes.\n",
    "Horizontal **wires** trace each qubit from left to right. A single-qubit gate appears as a labelled box on its wire; vertical lines connecting wires denote multi-qubit gates, and a measurement is shown by a meter/‘dial’ symbol.\n",
    "\n",
    "The diagram below prepares the Bell state\n",
    "$\\displaystyle \\ket{\\psi}=\\frac{1}{\\sqrt{2}}\\bigl(\\ket{00}+\\ket{11}\\bigr)$:\n",
    "\n",
    "![](images/bell_circuit.png)\n",
    "\n",
    "1. A Hadamard gate creates a superposition on $q_0$.\n",
    "2. A CNOT with $q_0$ as control and $q_1$ as target entangles the qubits.\n",
    "3. Both qubits are measured.\n",
    "\n",
    "To render such a diagram from a `QuantumCircuit`, call `.draw()`:\n",
    "\n",
    "```python\n",
    "from qiskit import QuantumCircuit\n",
    "\n",
    "qc = QuantumCircuit(2)\n",
    "qc.h(0)\n",
    "qc.cx(0, 1)\n",
    "\n",
    "qc.draw()\n",
    "```"
   ]
  },
  {
   "cell_type": "markdown",
   "id": "5296be91",
   "metadata": {},
   "source": [
    "### Exercise 1.1\n",
    "\n",
    "Construct a quantum circuit that prepares the state\n",
    "\n",
    "$$\n",
    "\\ket{\\psi}\\;=\\;\\frac{1}{\\sqrt{2}}\\bigl(\\ket{01} + \\ket{10}\\bigr)\n",
    "$$\n",
    "\n",
    "and visualise the circuit with the `.draw()` method.\n",
    "\n",
    "Measure both qubits at the end by calling `qc.measure_all()` as the final operation of your circuit.\n"
   ]
  },
  {
   "cell_type": "code",
   "execution_count": null,
   "id": "62d18c1b",
   "metadata": {},
   "outputs": [],
   "source": [
    "from qiskit import QuantumCircuit\n",
    "\n",
    "qc = QuantumCircuit(2)\n",
    "\n",
    "# your code here"
   ]
  },
  {
   "cell_type": "markdown",
   "id": "38fe4d1a",
   "metadata": {},
   "source": [
    "# Simulating Quantum Circuits\n",
    "\n",
    "To simulate the circuit we'll use `AerSimulator` from the `qiskit_aer` package. Qiskit Aer is Qiskit's high-performance simulation backend, it supports a wide variety of simulation methods, and can be configured to use OpenMP (enabled by default), GPU-acceleration and MPI. "
   ]
  },
  {
   "cell_type": "code",
   "execution_count": null,
   "id": "6d9a11b1",
   "metadata": {},
   "outputs": [],
   "source": [
    "from qiskit import transpile\n",
    "from qiskit_aer import AerSimulator # import the Qiskit Aer simulation backend\n",
    "\n",
    "shots  = 50 # number of shots (repeated runs of  the quantum circuit)\n",
    "\n",
    "backend = AerSimulator() # create the backend instance, CPU-based with OpenMP by default \n",
    "tqc = transpile(qc, backend) # transpile the circuit for the AerSimulator backend\n",
    "result  = backend.run(tqc, shots=shots).result() # run the circuit and get the result\n",
    "counts = result.get_counts() # get the count of each measured state\n",
    "print(counts)"
   ]
  },
  {
   "cell_type": "markdown",
   "id": "374a692a",
   "metadata": {},
   "source": [
    "Below we compare the simulation results with the analytical probabilities for the basis states $\\ket{01}$ and $\\ket{10}$.\n",
    "\n",
    "How closely does your circuit’s output match the expected values?\n",
    "\n",
    "With only a small number of shots, the discrepancy between the analytic probabilities and the empirical results can be quite large."
   ]
  },
  {
   "cell_type": "code",
   "execution_count": null,
   "id": "886397bf",
   "metadata": {},
   "outputs": [],
   "source": [
    "from qiskit.visualization import plot_histogram\n",
    "\n",
    "expected_counts = {'01': 0.5 * shots, '10': 0.5 * shots}\n",
    "\n",
    "plot_histogram([expected_counts, counts])"
   ]
  },
  {
   "cell_type": "markdown",
   "id": "083ac977",
   "metadata": {},
   "source": [
    "## Uniform Superposition\n",
    "\n",
    "A useful *algorithmic primitive* is the preparation of the **uniform superposition**\n",
    "\n",
    "$$\n",
    "\\ket{\\psi}\\;=\\;\\frac{1}{\\sqrt{2^{\\,n}}}\\sum_{k=0}^{2^{\\,n}-1}\\ket{k},\n",
    "$$\n",
    "\n",
    "where $k$ is the decimal (base-10) label of an $n$-qubit computational-basis state.\n",
    "For $n=2$ the mapping is\n",
    "\n",
    "$$\n",
    "\\ket{0}\\!=\\!\\ket{00}, \\quad\n",
    "\\ket{1}\\!=\\!\\ket{01}, \\quad\n",
    "\\ket{2}\\!=\\!\\ket{10}, \\quad\n",
    "\\ket{3}\\!=\\!\\ket{11}.\n",
    "$$\n",
    "\n",
    "A single-qubit Hadamard ($H$) gate transforms $\\ket{0}$ into an equal superposition of $\\ket{0}$ and $\\ket{1}$.\n",
    "Hence, to create the uniform superposition on $n$ qubits we simply apply an $H$ gate to **each** qubit."
   ]
  },
  {
   "cell_type": "markdown",
   "id": "fa86c9c1",
   "metadata": {},
   "source": [
    "### Exercise 1.2\n",
    "\n",
    "Complete the function **below** so that, given a `QuantumCircuit` instance `qc` and an integer `n` specifying the number of qubits, it returns a circuit that prepares a uniform superposition across those $n$ qubits."
   ]
  },
  {
   "cell_type": "code",
   "execution_count": null,
   "id": "d3b0ae8f",
   "metadata": {},
   "outputs": [],
   "source": [
    "def uniform_superposition(qc, n):\n",
    "    # your code here\n",
    "    return qc"
   ]
  },
  {
   "cell_type": "markdown",
   "id": "6bc43a1e",
   "metadata": {},
   "source": [
    "# Exercise 1.3\n",
    "\n",
    "Simulate the your state-preparation circuit using the `AerSimulator` backend and plot your results using `plot_histogram`."
   ]
  },
  {
   "cell_type": "code",
   "execution_count": null,
   "id": "f83d6b8f",
   "metadata": {},
   "outputs": [],
   "source": [
    "# your code here"
   ]
  },
  {
   "cell_type": "markdown",
   "id": "7d0e694c",
   "metadata": {},
   "source": [
    "## Summary\n",
    "\n",
    "The basic workflow is:\n",
    "\n",
    "1. Create a quantum `QuantumCircuit` object with a register of `n` qubits and a classical register of (typically) `n` bits, where the classical registers store the read-out state of each qubit.\n",
    "\n",
    "2. Construct the quantum circuit, specifying the application of quantum gates and measurement operations on particular qubits.\n",
    "\n",
    "3. Transpile the circuit to run on a target backend—either a simulator or real hardware. Transpilation optimizes the circuit and expresses it in the \"native-gate\" set of the target. Transpilers for real (noisy) hardware will also work to minimize circuit depth and error rates by accounting for the relative fidelity and physical layout of the qubits on the QPU.\n",
    "\n",
    "4. Submit the circuit to the device, which is executed repeatedly to collect results for a specified number of shots, sampling the quantum distribution.\n",
    "\n",
    "5. Retrieve the results, which are formatted as a dictionary of bitstrings and counts.\n",
    "\n",
    "6. Post-process the results for the next stage of computation or human interpretability."
   ]
  }
 ],
 "metadata": {
  "kernelspec": {
   "display_name": "venv",
   "language": "python",
   "name": "python3"
  },
  "language_info": {
   "codemirror_mode": {
    "name": "ipython",
    "version": 3
   },
   "file_extension": ".py",
   "mimetype": "text/x-python",
   "name": "python",
   "nbconvert_exporter": "python",
   "pygments_lexer": "ipython3",
   "version": "3.12.3"
  }
 },
 "nbformat": 4,
 "nbformat_minor": 5
}
